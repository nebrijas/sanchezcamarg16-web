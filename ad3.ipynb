{
 "cells": [
  {
   "cell_type": "markdown",
   "id": "cc95d2c7",
   "metadata": {},
   "source": [
    "# AD3"
   ]
  },
  {
   "cell_type": "markdown",
   "id": "f35ffdf1",
   "metadata": {},
   "source": [
    "Esta la actividad dirigida 3 que consiste en hacer un ejercicio de programación literaria aprovechando el código que hemos usado en programación  con Pyton donde realizamos *web scraping*\n",
    "A continuación pongo el código fuente."
   ]
  },
  {
   "cell_type": "markdown",
   "id": "493f90ae",
   "metadata": {},
   "source": [
    "### Programación Literaria"
   ]
  },
  {
   "cell_type": "markdown",
   "id": "99f15416",
   "metadata": {},
   "source": [
    "## Módulos y librerías del sistema\n",
    "Vamos a importar librerias y módulos del sistema:"
   ]
  },
  {
   "cell_type": "markdown",
   "id": "83a4cee0",
   "metadata": {},
   "source": [
    "## Módulos internos del sistema:\n",
    "- [time](https://docs.python.org/3/library/time.html): Proporciona varias funciones con el tiempo\n",
    "- [csv](https://docs.python.org/3/library/csv.html): Este módulo sirve para la escritura y lectura de archivos, separados por coma.\n",
    "- [re](https://docs.python.org/es/3/library/re.html): Proporciona operaciones de coincidencia de expresiones regulares similares a Perl.\n",
    "- [os](https://docs.python.org/3/library/os.html): Este módulo proporciona una forma portátil de usar la funcionalidad dependiente del sistema operativo."
   ]
  },
  {
   "cell_type": "markdown",
   "id": "7b9df837",
   "metadata": {},
   "source": [
    "## Librerías externas\n",
    "- [Requests](https://requests.readthedocs.io/en/latest/):Facilita los trabajos con peticiones de HTTP.\n",
    "- [bs4](https://pypi.org/project/beautifulsoup4/): Facilita extraer información de páginas web.\n",
    "- [pandas](https://pandas.pydata.org/): Es una herramienta de manipulación y análisis de datos de código abierto rápida.\n",
    "- [termcolor](https://pypi.org/project/termcolor/): Permite exprimir texto coloreado."
   ]
  },
  {
   "cell_type": "markdown",
   "id": "ab46ead4",
   "metadata": {},
   "source": [
    "## Instalamos librerías\n",
    "Las librerias que vienen con Phyton no hay que instalarlas, pero otras si."
   ]
  },
  {
   "cell_type": "code",
   "execution_count": 2,
   "id": "b7a82e59",
   "metadata": {
    "scrolled": true
   },
   "outputs": [
    {
     "name": "stdout",
     "output_type": "stream",
     "text": [
      "Defaulting to user installation because normal site-packages is not writeable\n",
      "Requirement already satisfied: requests in c:\\programdata\\anaconda3\\lib\\site-packages (2.27.1)\n",
      "Requirement already satisfied: bs4 in c:\\users\\agroc\\appdata\\roaming\\python\\python39\\site-packages (0.0.1)\n",
      "Requirement already satisfied: pandas in c:\\programdata\\anaconda3\\lib\\site-packages (1.4.2)\n",
      "Requirement already satisfied: termcolor in c:\\users\\agroc\\appdata\\roaming\\python\\python39\\site-packages (1.1.0)\n",
      "Requirement already satisfied: charset-normalizer~=2.0.0 in c:\\programdata\\anaconda3\\lib\\site-packages (from requests) (2.0.4)\n",
      "Requirement already satisfied: certifi>=2017.4.17 in c:\\programdata\\anaconda3\\lib\\site-packages (from requests) (2021.10.8)\n",
      "Requirement already satisfied: urllib3<1.27,>=1.21.1 in c:\\programdata\\anaconda3\\lib\\site-packages (from requests) (1.26.9)\n",
      "Requirement already satisfied: idna<4,>=2.5 in c:\\programdata\\anaconda3\\lib\\site-packages (from requests) (3.3)\n",
      "Requirement already satisfied: beautifulsoup4 in c:\\programdata\\anaconda3\\lib\\site-packages (from bs4) (4.11.1)\n",
      "Requirement already satisfied: pytz>=2020.1 in c:\\programdata\\anaconda3\\lib\\site-packages (from pandas) (2021.3)\n",
      "Requirement already satisfied: numpy>=1.18.5 in c:\\programdata\\anaconda3\\lib\\site-packages (from pandas) (1.21.5)\n",
      "Requirement already satisfied: python-dateutil>=2.8.1 in c:\\programdata\\anaconda3\\lib\\site-packages (from pandas) (2.8.2)\n",
      "Requirement already satisfied: six>=1.5 in c:\\programdata\\anaconda3\\lib\\site-packages (from python-dateutil>=2.8.1->pandas) (1.16.0)\n",
      "Requirement already satisfied: soupsieve>1.2 in c:\\programdata\\anaconda3\\lib\\site-packages (from beautifulsoup4->bs4) (2.3.1)\n",
      "Note: you may need to restart the kernel to use updated packages.\n"
     ]
    }
   ],
   "source": [
    "pip install requests bs4 pandas termcolor"
   ]
  },
  {
   "cell_type": "markdown",
   "id": "e6ddf553",
   "metadata": {},
   "source": [
    "## Importamos librerías\n",
    "A parte de las funciones básicas, Phython cuenta con una serie de bibliotecas que ya fueron programadas y se pueden importar para ser utilizadas a mi programa principal."
   ]
  },
  {
   "cell_type": "code",
   "execution_count": 31,
   "id": "127bca3e",
   "metadata": {
    "scrolled": false
   },
   "outputs": [],
   "source": [
    "import requests\n",
    "import time\n",
    "import csv\n",
    "import re\n",
    "from bs4 import BeautifulSoup\n",
    "import os\n",
    "import pandas as pd\n",
    "from termcolor import colored"
   ]
  },
  {
   "cell_type": "markdown",
   "id": "d5f0deb0",
   "metadata": {},
   "source": [
    "## Objetivos variables\n",
    "Vamos a crear una serie de objetos variables"
   ]
  },
  {
   "cell_type": "markdown",
   "id": "721629e2",
   "metadata": {},
   "source": [
    "### Resultados\n",
    "Creamos un objeto vacío denominado resultados en que se añadierán los resultados de los **scrapping**"
   ]
  },
  {
   "cell_type": "code",
   "execution_count": 12,
   "id": "8cc62006",
   "metadata": {},
   "outputs": [],
   "source": [
    "resultados = []"
   ]
  },
  {
   "cell_type": "markdown",
   "id": "c8b54b78",
   "metadata": {},
   "source": [
    "Se le paso función a type(), veremos que se trata de un objeto fijo que se llama 'list' o \"lista\" de Pyton."
   ]
  },
  {
   "cell_type": "code",
   "execution_count": 13,
   "id": "a693b0cc",
   "metadata": {},
   "outputs": [
    {
     "data": {
      "text/plain": [
       "list"
      ]
     },
     "execution_count": 13,
     "metadata": {},
     "output_type": "execute_result"
    }
   ],
   "source": [
    "type (resultados)"
   ]
  },
  {
   "cell_type": "markdown",
   "id": "20d8b282",
   "metadata": {},
   "source": [
    "### Solicitud de acceso a un sitio "
   ]
  },
  {
   "cell_type": "markdown",
   "id": "01c930ea",
   "metadata": {},
   "source": [
    "Se añade una variable con la que se hace uso de la solicitud req=requests.get(\"https://resultados.elpais.com\") para recoger la información de esa URL.."
   ]
  },
  {
   "cell_type": "code",
   "execution_count": 35,
   "id": "c080ca91",
   "metadata": {},
   "outputs": [],
   "source": [
    "req = requests.get(\"https://resultados.elpais.com\")"
   ]
  },
  {
   "cell_type": "markdown",
   "id": "562e8a36",
   "metadata": {},
   "source": [
    "Si pasamos la función type(req) se puede ver que el objeto es tipo de respuesta de modo requests."
   ]
  },
  {
   "cell_type": "code",
   "execution_count": 36,
   "id": "620721bf",
   "metadata": {},
   "outputs": [
    {
     "data": {
      "text/plain": [
       "requests.models.Response"
      ]
     },
     "execution_count": 36,
     "metadata": {},
     "output_type": "execute_result"
    }
   ],
   "source": [
    "type(req)"
   ]
  },
  {
   "cell_type": "markdown",
   "id": "608ac826",
   "metadata": {},
   "source": [
    "Como dice el código se emplea if para cuando el estatus noes 200 el valor de vuelta que no pueda leerse la página. El valor 200 quiere decir que la solicitud fue muy buena y el servicio respondió con los datos solicitados, en tal caso que no se encuentre el resultado como indicada se mostrará el mensaje que no se puede hacer web scrapping seguido de la URL errónea."
   ]
  },
  {
   "cell_type": "code",
   "execution_count": 37,
   "id": "7b8727dd",
   "metadata": {},
   "outputs": [],
   "source": [
    "# Si el estatus no es 200 no se puede leer la página\n",
    "if (req.status_code != 200):\n",
    "    raise Exception(\"No se puede hacer Web Scraping en\"+ URL)"
   ]
  },
  {
   "cell_type": "markdown",
   "id": "6039e207",
   "metadata": {},
   "source": [
    "Si pasamos la función type() podemos observar que la función es de tipo entero req.status_code por lo que el resultado será numérico."
   ]
  },
  {
   "cell_type": "code",
   "execution_count": 38,
   "id": "f85750ff",
   "metadata": {
    "scrolled": true
   },
   "outputs": [
    {
     "data": {
      "text/plain": [
       "int"
      ]
     },
     "execution_count": 38,
     "metadata": {},
     "output_type": "execute_result"
    }
   ],
   "source": [
    "type(req.status_code)"
   ]
  },
  {
   "cell_type": "markdown",
   "id": "8abc4316",
   "metadata": {},
   "source": [
    "### Beautiful Soup\n",
    "Se añade otra variable para que aplicar Web scrapping"
   ]
  },
  {
   "cell_type": "code",
   "execution_count": 39,
   "id": "00599a71",
   "metadata": {},
   "outputs": [],
   "source": [
    "soup = BeautifulSoup(req.text, 'html.parser')"
   ]
  },
  {
   "cell_type": "markdown",
   "id": "9e0724b5",
   "metadata": {},
   "source": [
    "Si pasamos la función type() podemos observar que este objeto es tipo de bs4."
   ]
  },
  {
   "cell_type": "code",
   "execution_count": 40,
   "id": "ce15d53f",
   "metadata": {
    "scrolled": true
   },
   "outputs": [
    {
     "data": {
      "text/plain": [
       "bs4.BeautifulSoup"
      ]
     },
     "execution_count": 40,
     "metadata": {},
     "output_type": "execute_result"
    }
   ],
   "source": [
    "type(soup)"
   ]
  },
  {
   "cell_type": "markdown",
   "id": "7b45b5a7",
   "metadata": {},
   "source": [
    "También se añade la variable que sirve para encontrar todas las etiquetas <h2> dentro de la página anteriormente especificada."
   ]
  },
  {
   "cell_type": "code",
   "execution_count": 41,
   "id": "cc6f7c01",
   "metadata": {},
   "outputs": [],
   "source": [
    "tags = soup.findAll(\"h2\")"
   ]
  },
  {
   "cell_type": "markdown",
   "id": "4b213056",
   "metadata": {},
   "source": [
    "Si pasamos la función type() podemos obervar que el objeto tags es un tipo Resultado del set de elementos bs4."
   ]
  },
  {
   "cell_type": "code",
   "execution_count": 42,
   "id": "ea271cba",
   "metadata": {
    "scrolled": true
   },
   "outputs": [
    {
     "data": {
      "text/plain": [
       "bs4.element.ResultSet"
      ]
     },
     "execution_count": 42,
     "metadata": {},
     "output_type": "execute_result"
    }
   ],
   "source": [
    "type(tags)"
   ]
  },
  {
   "cell_type": "markdown",
   "id": "ac0d5cf3",
   "metadata": {},
   "source": [
    "Se indica a través de un for, que se corren todos los h2 dentro de la variable anterior y se imprime el texto dentro de la etiqueta.Luego con resultados.append(h2.text) se añaden todos los textos dentro de las etiquetas dentro de la lista incial de los resultados."
   ]
  },
  {
   "cell_type": "code",
   "execution_count": 43,
   "id": "33a777ef",
   "metadata": {
    "scrolled": false
   },
   "outputs": [
    {
     "name": "stdout",
     "output_type": "stream",
     "text": [
      "Asesinado a tiros el ex primer ministro japonés Shinzo Abe\n",
      "Vídeo | El momento del atentado\n",
      "\n",
      "Shinzo Abe, un primer ministro carismático que marcó el rumbo del país\n",
      "El detenido: desempleado y antiguo miembro de las fuerzas armadas\n",
      "Elon Musk retira la oferta de compra por Twitter\n",
      "Detenido en Brasil el presunto autor intelectual del asesinato de Dom Philips y Bruno Pereira en la Amazonia\n",
      "Biden reacciona a las críticas sobre su inacción con un decreto para proteger el aborto\n",
      "El misterio de la carta del soldado alemán\n",
      "Las voces de los niños de la guerra en Colombia: “Los colegios se volvieron salas fúnebres”\n",
      "El empleo de junio en Estados Unidos aleja el temor de la recesión y animan a la Fed a subir tipos\n",
      "Trump y Biden miden ya sus fuerzas para las presidenciales de 2024\n",
      "Nadie frena la novena reelección de un eterno sindicalista argentino\n",
      "Detenida la esposa del empresario italiano Raphael Tunesi como autora intelectual de su asesinato\n",
      "La sobrexplotación amenaza a las especies silvestres de las que dependen miles de millones de personas en el mundo\n",
      "Rosaly Lopes, la persona que más volcanes ha descubierto: “Puede haber vida en Titán” \n",
      "Un Djokovic de récord se medirá con Kyrgios en la final de Wimbledon\n",
      "El Partido Conservador explora cómo acelerar la salida de Johnson\n",
      "La UE confía en que la relación con Londres mejore\n",
      "Un mandato rocambolesco plagado de escándalos\n",
      "Vídeo | Del Brexit al ‘partygate’, los escándalos que han acabado con la dimisión\n",
      "El bombazo que volvió a poner a Peña Nieto bajo los reflectores de la política en México\n",
      "La Fiscalía mexicana reabre el caso por el asesinato del excandidato Colosio\n",
      "El Papa asegura que el camino que ha seguido la Iglesia contra la pederastia “es irreversible”\n",
      "Lanzaderas de misiles, drones turcos y cañones de artillería: Ucrania reclama más armas para recuperar terreno \n",
      "Hallada en España la cara del homínido más antiguo de Europa\n",
      "Vivir sin agua en un paraíso\n",
      "Chile necesita construir grandes mayorías\n",
      "¿Habrá nueva Constitución?\n",
      "La juventud en el país de Mickey Mouse\n",
      "Guerra con aceite de oliva\n",
      "Stephen King adora ‘Stranger Things’ y viceversa\n",
      "Rubén Blades: “Yo siempre he sido parte del público”\n",
      "El cine de propaganda nunca muere: ahora se suman chinos y rusos\n",
      "‘Thor’, los traumas y las risas de los dioses dirigidos por un niño\n",
      "Francia considera que el autor de una obra es el artista que la concibe y no el que la ejecuta\n",
      "¿Quién es quién en la familia real de Mónaco? Un repaso a los Grimaldi\n",
      "Los hombres también se ponen bótox: este es su perfil y sus razones\n",
      "Elon Musk, sobre sus 10 hijos: “Estoy haciendo todo lo posible para ayudar con la crisis de despoblación” \n",
      "El pionero que desnudó y fotografió a otros hombres cuando estaba prohibido\n",
      "Demi Moore posa con su nueva colección de biquinis diseñados por ella misma\n",
      "Cielo e infierno de Rafael Nadal, entre dos mundos\n",
      "Checo Pérez vive su momento más dulce tras una década en la Fórmula 1\n",
      "Pogacar no se cansa de arrasar a sus rivales en el Tour de Francia\n",
      "EL PAÍS América gana el Premio de la Asociación Mundial de Editores al mejor sitio de noticias de Latinoamérica\n",
      "Vender a una niña por comida: “Hubo pretendientes e intenté escoger al más joven”\n",
      "Francisco de Roux: “Si no se acaba con el narco, Colombia no tendrá paz”\n",
      "La economía mundial se desinfla: así es la crisis que viene\n",
      "Japan’s ex-PM Shinzo Abe dies in hospital after being shot by gunman\n",
      "An ex-Marine processes war trauma, uncovers memories of abuse at a Catholic school in Spain\n",
      "US basketball star Brittney Griner pleads guilty to drug charges in Russia\n",
      "Nicole Kidman makes a surprise appearance on the Balenciaga runway\n",
      "Elon Musk secretly fathered twins with an executive at his company\n",
      "Letras Americanas: la actualidad literaria de un continente vista por el escritor Emiliano Monge\n",
      "Americanas: Reportajes y noticias sobre feminismo e historias con enfoque de género de la región\n",
      "Toda la actualidad científica en el boletín de Materia\n",
      "Ideas: reportajes y entrevistas para entender el mundo\n",
      "El agente que mató a George Floyd, condenado a otros 21 años de cárcel por violar sus derechos civiles\n",
      "Haití, sin presidente y sin Estado un año después del asesinato de Jovenel Moïse\n",
      "Petro nombra a Alejandro Gaviria en Educación y ahonda en su perfil de moderado\n",
      "Inflación, energía, reservas y tipo de cambio: los desafíos que lastran a la economía Argentina en el segundo semestre\n",
      "Los argentinos se lanzan a las tiendas ante una nueva crisis del peso: “Si ves algo, compra”\n",
      "Uniper, la mayor gasista alemana, pide el rescate asfixiada por los recortes del gas ruso\n",
      "Marcos López Hoyos, inmunólogo: “Deberíamos usar mascarillas en interiores y comer en terrazas”\n",
      "La falta de presupuesto ahoga a los refugios para mujeres víctimas de violencia en México\n",
      "¿Existe brecha generacional en el colectivo LGTBI? De la lucha por los derechos al debate identitario\n",
      "Alivio para el arte conceptual: la justicia francesa considera que el autor de una obra es el artista que la concibe y no el que la ejecuta\n",
      "‘Mali Twist’: Y el rock también llegó a Malí\n",
      "Muere el actor James Caan, célebre por encarnar a Sonny Corleone en ‘El padrino’, a los 82 años\n",
      "Hallada en Atapuerca la cara del humano más antiguo de Europa\n",
      "Rosaly Lopes, la persona que más volcanes ha descubierto: “Puede haber vida en Titán” \n",
      "Antonio Guillamón: “La identidad de género no se elige, como prueba el fracaso de las terapias de conversión”\n",
      "¿Por qué me gusta el fútbol? \n",
      "‘El Pedro Ferrándiz más humano’, por Juan Antonio Corbalán\n",
      "La lesión de Alexia Putellas: las roturas del ligamento cruzado anterior son tres veces más frecuentes en mujeres \n",
      "La sobrexplotación amenaza a las especies silvestres de las que dependen miles de millones de personas en el mundo\n",
      "La ministra de Ciencia e Innovación: “El gran peligro es el negacionismo climático”\n",
      "Las temperaturas extremas también matan en América Latina\n",
      "El misterio de la carta del soldado alemán\n",
      "‘Por qué los proyectos ‘cripto’ son tan difíciles de entender’, por Jordi Pérez Colomé\n",
      "Jorge Stolfi: “Soy catedrático de informática. Como mis colegas, sé que la tecnología de bitcoin es basura”\n",
      "Las discrepancias entre PP y PSOE enturbian el homenaje a Miguel Ángel Blanco \n",
      "Pablo Iglesias, sobre los audios de Villarejo: “Toda esta ‘basura’ ha alimentado el relato mediático sobre Podemos durante años”\n",
      "Defensa se abre a revisar los sueldos de los 120.000 militares españoles \n",
      "‘Encerrado con el diablo’: Dennis Lehane busca en el fondo del alma‘, por Juan Carlos Galindo\n",
      "‘Stephen King adora ‘Stranger Things’ y viceversa’, por Ricardo de Querol\n",
      "‘Sanfermines: maltrato animal en riguroso directo’, por Eva Güimil\n",
      "El espectáculo (teatral) debe continuar en la alta costura de París\n",
      "Por qué es importante conocer tu personalidad erótica para tener una vida sexual más satisfactoria\n",
      "Elon Musk tuvo gemelos en secreto con una ejecutiva de una de sus empresas\n",
      "El Panamá indígena busca empoderar a sus mujeres\n",
      "Volver a la escuela tras dos años de pandemia\n",
      "¿Dónde está exactamente el origen del mal?\n",
      "El hombre que persigue la gaita más antigua del mundo\n",
      "La tiranía de la vida eficiente: ¿alguien es capaz de no hacer nada? \n",
      "Carlos Nobre: “La Amazonia  ya muestra síntomas  de muerte”\n",
      "Manual para sobrevivir al calentón del euríbor\n",
      "La carrera por las oposiciones ha empezado: en juego hay 45.000 trabajos para toda la vida\n",
      "Ayn Rand, ‘rednecks’ e inclusividad forzada: el mundo virtual como escenario político\n",
      "Hay un río de oro negro bajo A Coruña\n",
      "Un continente donde los sueños tienen menos de 30 años\n",
      "Toca devolver lo prestado: la crisis de deuda asfixia el desarrollo en África\n",
      "Vídeo | Qué hacer si te pierden la maleta cuando viajas en avión: los pasos a seguir\n",
      "Así fue mi cara a cara con una orca salvaje en el Mar de Cortés\n",
      "Nicole Kidman aparece como modelo sorpresa en el chocante desfile de Balenciaga\n",
      "El ‘influencer’ más varguardista del momento crea parodias de la moda desde una de las islas más pobres del mundo\n",
      "A-ha: cómo tres tipos que no se soportan sobrevivieron a la canción pop más grande de los ochenta \n",
      "Una granja llena de armas y dos denuncias por secuestro: ¿cómo ha llegado Ezra Miller hasta aquí?\n",
      "Aló Comidista: “¿Tomar gazpacho es un pecado nutricional?”\n",
      "¿Cuál es la mejor marca de tónica?\n",
      "Las oficinas del futuro: espacios híbridos con tecnología integrada para rendir más (y mejor)\n",
      "Abre la primera casa sin cocina para los enfermos que no pueden parar de comer: así es el síndrome de Prader Willi\n",
      "Ponte a prueba con nuestros crucigramas, sopas de letras, sudokus y juegos arcade\n",
      "Las cámaras captan lo que ha hecho Nadal al irse de Wimbledon: dice mucho de cómo es\n",
      "Jovic y cinco más, fuera\n",
      "Carmona, la transformación de un territorio con abejas y renovables\n"
     ]
    }
   ],
   "source": [
    "for h2 in tags:\n",
    "    print(h2.text)\n",
    "    resultados.append(h2.text)"
   ]
  },
  {
   "cell_type": "markdown",
   "id": "8ec73a8f",
   "metadata": {},
   "source": [
    "Si pasamos la función type()podemos ver que el objeto resultados.append es un tipo de función o metodo integrado."
   ]
  },
  {
   "cell_type": "code",
   "execution_count": 44,
   "id": "2e2de86a",
   "metadata": {
    "scrolled": true
   },
   "outputs": [
    {
     "data": {
      "text/plain": [
       "builtin_function_or_method"
      ]
     },
     "execution_count": 44,
     "metadata": {},
     "output_type": "execute_result"
    }
   ],
   "source": [
    "type(resultados.append)"
   ]
  },
  {
   "cell_type": "markdown",
   "id": "d22ee41f",
   "metadata": {},
   "source": [
    "Se procede a repetir la mismo proceso para las URLs de las subsecciones de https://resultados.elpais.com: internacional, opiniónl, España, economía, sociedad, educación, clima, y medio ambiente, ciencia, cultura, babelia, deportes, tecnología, gente, televisión y eps. Para ello se realiza el proceso previo de forma similar y se modifican los nombres de las variables poniéndole números, ejemplo req2 para la URL https://elpais.com/internacional, así sucesivamente."
   ]
  },
  {
   "cell_type": "code",
   "execution_count": 47,
   "id": "5c9d7159",
   "metadata": {
    "scrolled": false
   },
   "outputs": [
    {
     "name": "stdout",
     "output_type": "stream",
     "text": [
      "Un magnicidio inusual que hace sentir a los japoneses vulnerables \n",
      "Ucrania rinde homenaje a Boris Johnson\n",
      "Muere a los 79 años el expresidente de Angola Eduardo Dos Santos en Barcelona\n",
      "Un magnicidio inusual que hace sentir a los japoneses vulnerables \n",
      "Populistas occidentales por el desagüe de la historia\n",
      "Boris Johnson dimite\n",
      "La ultraderecha mundial y el control de los cuerpos\n",
      "Las otras fronteras de Rusia: entre el miedo (al imperio) y los intereses nacionales\n",
      "El Partido Conservador explora cómo acelerar la salida de Boris Johnson de Downing Street\n",
      "Boris Johnson: un mandato rocambolesco plagado de escándalos\n",
      "Shinzo Abe no es el primero: historia reciente de los magnicidios\n",
      "El detenido por la muerte de Abe: desempleado y antiguo miembro de las fuerzas armadas\n",
      "Los principales líderes internacionales condenan el asesinato a tiros de Shinzo Abe\n",
      "Shinzo Abe, un primer ministro carismático que marcó el rumbo de la política en Japón\n",
      "La UE confía en que la relación con Londres mejore tras la salida de Boris Johnson\n",
      "¿Quiénes son los favoritos para suceder a Boris Johnson?\n",
      "Boris Johnson: el final de la escapada del mago del Brexit\n",
      "Populistas occidentales por el desagüe de la historia\n",
      "Trump y Biden miden ya sus fuerzas para las elecciones de 2024\n",
      "“Hay una parte de la verdad de Colombia que solo se puede conocer fuera de Colombia”\n",
      "Trump y Biden miden ya sus fuerzas para las elecciones de 2024\n",
      "El agente que mató a George Floyd, condenado a otros 21 años de cárcel por violar sus derechos civiles\n",
      "La posibilidad de un cambio de Gobierno en Brasil dispara la depredación en la Amazonia\n",
      "La frontera se calienta días antes de la visita de López Obrador a Biden\n",
      "El legado de Boris Johnson\n",
      "Chile necesita construir grandes mayorías\n",
      "La juventud en el país de Mickey Mouse\n",
      "Disonancias en la izquierda\n",
      "‘Mi casa, mi árbol’\n",
      "Ten cuidado\n",
      "Emprendedor de ‘fake news’\n",
      "Esto es una fotografía\n",
      "Guerra con aceite de oliva\n",
      "Castración\n",
      "Carlos Ríos, un nutricionista en el ojo del huracán \n",
      "Vendaval inflacionista\n",
      "Deriva reaccionaria en Estados Unidos\n",
      "El Roto\n",
      "Peridis\n",
      "Flavita Banana\n",
      "Riki Blanco\n",
      "Sciammarella\n",
      "Planeta de Plástico, por Malagón\n",
      "Envía tu carta\n",
      "Lo raro es vivir\n",
      "Defender lo público\n",
      "Los excesos de Telmo Martín\n",
      "En la calle circulan rumores\n",
      "Opinar sin insultar\n",
      "Contra el conflicto de intereses, transparencia\n",
      "El defensor del lector contesta\n",
      "Yolanda Díaz presenta Sumar como movimiento ciudadano que busca “un nuevo contrato social”\n",
      "El Gobierno y la Generalitat  se comprometen a retomar el diálogo y “superar la judicialización”\n",
      "El juez cita como imputados a tres exjefes de ETA por el asesinato de Miguel Ángel Blanco\n",
      "Ante la crisis, ¿gestionas o lideras?\n",
      "El almirante Cervera y el honor de España\n",
      "El Gran Retroceso\n",
      "Santa Bárbara y la cultura de la defensa\n",
      "¿Es posible disentir de esta retórica belicista?\n",
      "Interior estudia incentivos a los guardias civiles de zonas rurales para evitar el cierre de cuarteles\n",
      "Marlaska elogia a Marruecos y su trabajo de “contención” de la inmigración tras la muerte de 23 subsaharianos en Melilla \n",
      "El Defensor del Pueblo abre una investigación sobre el incendio en la sierra de la Culebra\n",
      "Feijóo considera “discutible” dedicar dinero público a becas para familias de rentas altas como hace Ayuso\n",
      "Un juez archiva la causa contra el exmagistrado del Constitucional Fernando Valdés por supuesto maltrato \n",
      "La Audiencia Provincial de Palma decide continuar con el juicio a Cursach tras desestimar buena parte de las peticiones de las defensas\n",
      "Segunda ola calor del verano: al menos cuatro días con máximas de hasta 46° y noches tórridas a más de 25°\n",
      "La Audiencia justifica la salida del magistrado Delgado del juicio a Camps “para alejar cualquier sospecha de falta de imparcialidad”\n",
      "Pablo Iglesias, sobre los audios de Villarejo: “Toda esta ‘basura’ ha alimentado el relato mediático sobre Podemos durante años”\n",
      "El frente catalán del nuevo proyecto de Yolanda Díaz\n",
      "Defensa se abre a revisar los sueldos de los 120.000 militares españoles \n",
      "Un paraíso en el que avistar más de 20 especies de cetáceos\n",
      "El secreto de Fuerteventura se hace viral: la ‘playa de las palomitas’\n",
      "Un vino para triunfar entre los mileniales\n",
      "Artesanía y cultura que conquista a las ‘influencers’\n",
      "Más allá de la capital. El triunfo de la vida rural madrileña\n",
      "Elon Musk retira la oferta de compra por Twitter\n",
      "El BCE cifra en 70.000 millones las pérdidas de la gran banca ante una crisis climática\n",
      "Las constructoras acusan a la CNMC de “falta de rigor” por la macromulta de 204 millones\n",
      "Ya se puede pedir el cheque ‘antinflación’ de 200 euros: ¿quién tiene derecho? ¿Dónde solicitarlo?\n",
      "Bancos centrales, entre líneas\n",
      "Estado autonómico: Sobre las reformas pendientes\n",
      "Carlos Jiménez Villarejo: un hombre contra la desesperanza\n",
      "IPC: de la negación al riesgo de sobrerreacción\n",
      "A Unilever se le indigesta el helado \n",
      "Francisco González pide volver a declarar como imputado en el ‘caso Villarejo’\n",
      "Uniper, la mayor gasista alemana, pide el rescate asfixiada por los recortes del gas ruso\n",
      "Volkswagen presiona a Tesla con la construcción de su primera planta de baterías\n",
      "Las principales cajas de ahorros y bancos minoristas del mundo ponen el foco en los avances en finanzas sostenibles\n",
      "Estas son las mayores multas a empresas españolas por repartirse los contratos y manipular precios\n",
      "Los datos de empleo de junio en EE UU alejan el temor de la recesión y animan a la Fed a subir tipos\n",
      "El número de usuarios falsos en Twitter pone en peligro la compra de Musk\n",
      "Caso Laso: ¿Me pueden echar tras sufrir un infarto?\n",
      "Patricia Ayuela (Línea Directa Aseguradora): “No gestiono la compañía mirando a la Bolsa”\n",
      "Iberdrola desarrollará 16 proyectos renovables en el Reino Unido tras “garantizar su rentabilidad”\n",
      "Repsol triplica el margen de beneficio de sus refinerías en España entre abril y junio\n",
      "La carrera por las oposiciones ha empezado: en juego hay 45.000 trabajos para toda la vida\n",
      "Los jueces se ponen de parte de las víctimas de ‘phishing’ bancario\n",
      "Texas es la nueva China para  Elon Musk\n",
      "IPC: de la negación al riesgo de sobrerreacción\n",
      "A Unilever se le indigesta el helado \n",
      "Siemens pagará la opa sobre Gamesa con un préstamo de 4.000 millones\n",
      "Telefónica segrega sus filialesen Argentina que pasan a un holdingde nueva creación\n",
      "\n",
      "Así será el nuevo DiverXO: en un bosque en La Finca y una sala de 1.900 metros para 40 comensales\n",
      "El criptoinvierno fuerza el cierre de 2gether y deja a la deriva a 100.000 afectados\n",
      "No se puede desheredar a un familiar con el que no se tiene relación, según el Supremo\n",
      "Líos en la piscina comunitaria: normas y sentencias para un chapuzón seguro\n",
      "Parir en casa, educarlo por mi cuenta… ¿Qué puedo decidir sobre mi hijo y qué no?\n",
      "Música que transforma vidas y esboza futuros\n",
      "El futuro probable de una sociedad insostenible\n",
      "Francisco Javier Blasco: “Llevamos años sin mejorar la eficacia de las políticas activas de empleo”\n",
      "La hora del bienestar corporativo\n",
      "Cancerberos del bienestar de la empresa\n",
      "Cómo garantizar la seguridad en un mundo de amenazas híbridas\n",
      "¿Cuáles son los dilemas éticos del uso de la inteligencia artificial?\n",
      "Las aventuras de un par de calcetines que dan empleo a todo un pueblo\n",
      "Cultura financiera como punto de partida para volver a empezar\n",
      "¿Puede convertirse España en una de las potencias logísticas del futuro?\n",
      "Por qué digitalizar una pyme aporta más empleo\n",
      "‘Coopetir’: la actitud DFactory\n",
      "Así serán las ciudades de la (nueva) última milla\n",
      "Cinco errores habituales al digitalizar un negocio \n",
      "PERTE Agroalimentario: ¿cómo acceder a los fondos europeos?\n",
      "Fondos soberanos: ¿Cómo funcionan las cajas fuertes de los estados más ricos?\n",
      "¿Crisis de deuda mundial a la vista?\n",
      "El método Muñoz para triunfar en cada reto que se propone\n",
      "Gloria Ramos, cuando el afán de superación acaba en la alfombra roja \n",
      "Ocho ‘startups’ innovadoras con nombre propio\n",
      "Hotmart y su plataforma 360 para creadores de contenidos\n",
      "El responsable LGTBI del PSOE celebra que Sánchez apartase a Calvo por su oposición a la ‘ley trans’\n",
      "Biden reacciona a las críticas sobre su inacción con un decreto para proteger el aborto\n",
      "El Papa asegura que el camino que ha seguido la Iglesia contra la pederastia “es irreversible”\n",
      "El control del cuerpo de las mujeres\n",
      "No se gobierna con el catecismo romano\n",
      "Un día muy triste para todas las mujeres\n",
      "El Supremo de Estados Unidos destruye un derecho fundamental de las mujeres\n",
      "La sobrexplotación amenaza a las especies silvestres de las que dependen miles de millones de personas en el mundo\n",
      "Los ricos esperan menos para operarse, también en los hospitales públicos\n",
      "El 60% de los universitarios no se ve preparado para un mercado laboral que no encuentra los perfiles necesarios  \n",
      "El Constitucional declara por primera vez que toda discriminación de las personas trans es ilegal\n",
      "La ministra de Ciencia e Innovación: “El gran peligro es el negacionismo climático”\n",
      "Las emisiones de efecto invernadero volvieron a crecer en 2021 en España aunque sin sobrepasar los niveles previos a la pandemia\n",
      "¿Existe brecha generacional en el colectivo LGTBI? De la lucha por los derechos al debate identitario\n",
      "Marcos López Hoyos, inmunólogo: “Deberíamos usar mascarillas en interiores y comer en terrazas”\n",
      "¿Hay que obligar a los niños a hacer deberes en verano? Los expertos recomiendan actividades que no se parezcan a las tareas escolares\n",
      "La emergencia climática llama a la puerta del mundo\n",
      "Empresas, expertos, políticos y científicos reclaman compromiso ante la emergencia climática: “Lo fundamental es cumplir”\n",
      "Se buscan profesionales en economía circular\n",
      "La economía circular llega a la ciudad. Te contamos dónde se encuentra \n",
      "¿Por qué hablar de VIH en el Orgullo y no en los sanfermines?\n",
      "Mitos, falsedades, bulos y realidades sobre el VIH 40 años después\n",
      "Qué son las evidencias científicas y por qué están revolucionando la educación\n",
      "Munic, el joven redimido por el trap\n",
      "El tremendo peso de la obesidad en España\n",
      "Interactivo | Los 14 cambios en los aeropuertos españoles que no ves y que ya están ocurriendo\n",
      "Encontrar empleo pese a los obstáculos. Por dónde empezar la búsqueda\n",
      "La fórmula de Carboneros para evitar el éxodo rural: trabajar cuidando a los vecinos \n",
      "Consejos y cuidados para el primer verano con un gatito o un perrito\n",
      "¿Qué tienen en común perros y gatos cuando son cachorros?\n",
      "La guía definitiva para alimentarnos mejor (y cuidar nuestra salud y la del planeta)\n",
      "El metro como refugio. De los andenes de Madrid en 1936 a los de Kiev en 2022\n",
      "La salud mental de los refugiados: cómo abrirse para cerrar las heridas\n",
      "Yogures con menos azúcar, paso firme hacia la alimentación infantil del futuro\n",
      "Conectada con el mercado laboral y tecnológica: así es la universidad del presente\n",
      "Así es la formación más abierta y flexible, a prueba de crisis\n"
     ]
    },
    {
     "name": "stdout",
     "output_type": "stream",
     "text": [
      "El 60% de los universitarios no se ve preparado para un mercado laboral que no encuentra los perfiles necesarios  \n",
      "¿Cómo se cierra un colegio público?\n",
      "Los sindicatos educativos catalanes convocan huelga el 7 de septiembre, primer día de curso en los institutos, y el 28\n",
      "¿Hay que obligar a los niños a hacer deberes en verano? Los expertos recomiendan actividades que no se parezcan a las tareas escolares\n",
      "El caso de Georgia, en EE UU: becar sin importar la renta agranda la desigualdad\n",
      "Madrid, el paraíso de la educación privada: en la capital son minoría los alumnos de la pública\n",
      "Trabajar en el ‘big data’: “Nunca he tenido que echar currículum, las ofertas me han llegado solas”\n",
      "El Gobierno lanza una ofensiva contra las becas para rentas altas de Ayuso que Feijóo respalda\n",
      "José Manuel Bar, secretario de Estado de Educación: “Los docentes de secundaria deben empezar a estudiar pedagogía en su carrera”\n",
      "Ayuso se apunta ahora el tanto de la bajada de tasas universitarias, pese a que las llevó a los tribunales para no reducirlas\n",
      "Notas de Selectividad 2022 por comunidades: los aprobados rozan el 96%\n",
      "Sin currículos\n",
      "La escuela concertada ante las desigualdades: el debate pendiente\n",
      "La equidad frente a las políticas educativas de privatización en Andalucía\n",
      "No hay lunes al sol en la Universidad\n",
      "El nuevo sistema para evaluar los conocimientos digitales de los profesores valdrá en toda España\n",
      "Ofrecer comedor gratis en todos los colegios públicos es “alcanzable y urgente”: costaría 1.664 millones al año, según la ONG Educo  \n",
      "Una fórmula para que la escuela pública compita mejor con la concertada\n",
      "La pérdida de alumnos por el descenso de la natalidad está afectando con más fuerza a la escuela pública que a la concertada\n",
      "El caso de Georgia, en EE UU: becar sin importar la renta agranda la desigualdad\n",
      "El techo de cristal del grado medio de FP: candidatos demasiado preparados se quedan con los puestos\n",
      "La implantación del nuevo Bachillerato general fracasa pese a su demanda potencial: “Creímos que lo pedirían seis alumnos y lo han hecho 27”\n",
      "Toni Solano, director de instituto: “Veo mal a los niños, necesitan muchísima ayuda”\n",
      "Niños, Administraciones y redes sociales: prohibir su uso con una mano y enseñar a crear contenidos con la otra\n",
      "Una historia en la que caben Alaska, García Lorca, Suárez y Popper: la Universidad Internacional Menéndez Pelayo cumple 90 años \n",
      "Subirats reinterpreta la ley de Universidades: freno a la precariedad, facilidades para los alumnos extranjeros y ciencia abierta\n",
      "Las universitarias desertan del grado de Matemáticas ahora que tiene pleno empleo. ¿Por qué?\n",
      "Golpe a la temporalidad en las universidades: 25.000 profesores asociados serán indefinidos a tiempo parcial\n",
      "“No hay pensamiento sin tiempo para pensar”\n",
      "“En el hospital, la enseñanza es una medicina más”\n",
      "Un alegato por la paz y la cultura\n",
      "La sobrexplotación amenaza a las especies silvestres de las que dependen miles de millones de personas en el mundo\n",
      "Segunda ola calor del verano: al menos cuatro días con máximas de hasta 46° y noches tórridas a más de 25°\n",
      "La emergencia climática llama a la puerta del mundo\n",
      "Las emisiones de efecto invernadero volvieron a crecer en 2021 en España aunque sin sobrepasar los niveles previos a la pandemia\n",
      "Jornada del foro Ecosistema Ahora, organizado por EL PAÍS, en imágenes\n",
      "La oceanógrafa y buceadora Gádor Muntaner: “Lo que más miedo me da es nadar en un mar sin tiburones”\n",
      "Los rinocerontes regresan a Mozambique 40 años después de su desaparición\n",
      "Carlos Nobre: “La Amazonia  ya muestra síntomas  de muerte”\n",
      "El Parlamento Europeo respalda el sello verde de la UE al gas y energía nuclear\n",
      "Un alud letal y una histórica sequía: el cambio climático castiga al norte de Italia\n",
      "Un año de espera por la bicicleta: el estallido de la demanda coincide con la escasez de suministro\n",
      "Un plan de retirada  \n",
      "Crisis energética y precios del carbono\n",
      "La lección del martín pescador para afrontar la crisis ecológica\n",
      "Estocolmo+50: mirar atrás para tomar impulso\n",
      "Ríos imposibles: las 171.000 barreras que rompen el curso de agua en España\n",
      "La UE abraza las renovables para romper la dependencia de Rusia\n",
      "La lucha en un pueblo de Teruel para salvar su última montaña\n",
      "¿Qué aire respiran los niños de Madrid y Barcelona? En el 46% de los colegios se supera la contaminación permitida\n",
      "“No hay pensamiento sin tiempo para pensar”\n",
      "“En el hospital, la enseñanza es una medicina más”\n",
      "Un alegato por la paz y la cultura\n",
      "Hallada en Atapuerca la cara del humano más antiguo de Europa\n",
      "El humano más antiguo de Europa: prehistoria que hace historia\n",
      "Rosaly Lopes, la persona que más volcanes ha descubierto: “Puede haber vida en Titán” \n",
      "Una cena conflictiva\n",
      "‘Meraxes gigas’: descubierta en la Patagonia argentina una nueva especie de dinosaurio carnívoro gigante\n",
      "La cola vestigial, el apéndice oculto del hombre que venció a Napoleón en Waterloo\n",
      "La agenda de la NASA para volver a la Luna (y quedarse)\n",
      "El sector biotecnológico supera las cifras de 2020 y capta 180 millones de euros de inversión privada\n",
      "“La identidad de género no se elige, como prueba el fracaso de las terapias de conversión”\n",
      "Un novedoso estudio sobre estrés adolescente propone un nuevo método para afrontarlo: optimizarlo en lugar de evitarlo\n",
      "Las mentes humanas detrás de las mentes artificiales\n",
      "El cerebro está más caliente de lo que se pensaba \n",
      "Cangrejos ermitaños: el arte de seleccionar la mejor concha\n",
      "Las temperaturas extremas también matan en América Latina\n",
      "Vuelve el LHC, el mayor experimento sobre la Tierra \n",
      "La matemática Maryna Viazovska gana la medalla Fields tras descubrir la mejor forma de apilar naranjas en 24 dimensiones\n",
      "¿Dónde hay civilizaciones extraterrestres?\n",
      "Las mentes humanas detrás de las mentes artificiales\n",
      "Matemáticas para describir los remolinos, los taxis del océano\n",
      "Reaparece la tesis de María Wonenburger, la pionera matemática española que permaneció décadas en el olvido\n",
      "Técnicas criptográficas que se fundamentan en lo impredecible\n",
      "Alrededor de la mesa\n",
      "Fracciones egipcias\n",
      "El problema del huerto\n",
      "La cola vestigial, el apéndice oculto del hombre que venció a Napoleón en Waterloo\n",
      "Molinos y gigantes, adelantos tecnológicos y el síndrome bicicleta\n",
      "El síndrome del hombre lobo y la realidad lógica de su fábula\n",
      "La locura como juego; más allá del Quijote y de las novelas de Pérez Galdós\n",
      "El andar del borracho, las huellas del azar y el juego de dados en algunos libros malditos\n",
      "¿Son mejores las hormonas bioidénticas?\n",
      "¿Qué surgió antes, el ARN o el ADN?\n",
      "¿Por qué se sabe que los núcleos de la Tierra rotan?\n",
      "¿Qué son los mini reactores nucleares?\n",
      "Invitados indeseables por Navidad: el muérdago y otras plagas que evitar durante las fiestas\n",
      "Las ‘apps’ nutricionales o cómo comer bien no debería depender de uno mismo\n",
      "Malnutrición invisible: el impacto de la pobreza en la salud infantil\n",
      "El óxido de etileno, la sustancia cancerígena que ha obligado a retirar miles de alimentos en la UE\n",
      "Que no te líen con los ingredientes: aceites y grasas de mala calidad nutricional\n",
      "¿Cómo es un festival intergeneracional en 2022?\n",
      "Apoteosis de The Killers en Mad Cool ante 70.000 personas\n",
      "El cine de propaganda nunca ha desaparecido: ahora se lanzan a él chinos y rusos\n",
      "Lo que debemos a Patxo Unzueta\n",
      "La huida\n",
      "Un siglo de canciones, 1.500 artistas\n",
      "Peter Brook, el gran árbol del teatro\n",
      "Alivio para el arte conceptual: la justicia francesa considera que el autor de una obra es el artista que la concibe y no el que la ejecuta\n",
      "‘Thor: Love and Thunder’, cuarta aventura individual del superhéroe de Marvel, y otros estrenos de este fin de semana\n",
      "#Brahms125 aporta pasión y consuelo en las cálidas noches granadinas\n",
      "La Comunidad de Madrid retira una obra de Paco Bezerra prevista por los Teatros del Canal alegando razones económicas\n",
      "Estopa, Creu de Sant Jordi desde la periferia de la periferia\n",
      "‘Mali Twist’: Y el rock también llegó a Malí\n",
      "Muere el actor James Caan, célebre por encarnar a Sonny Corleone en ‘El padrino’, a los 82 años\n",
      "Rubén Blades: “Yo siempre he sido parte del público”\n",
      "La oceanógrafa y buceadora Gádor Muntaner: “Lo que más miedo me da es nadar en un mar sin tiburones”\n",
      "Rosalía en Almería, con R de reinona y A de apoteósico\n",
      "Metallica triunfa a base de oficio en un Mad Cool repleto\n",
      "Queen se aferra a su corona en el concierto del WiZink\n",
      "Una nueva grabación de Bob Dylan de ‘Blowin’ in the Wind’, subastada por 1,7 millones de euros \n",
      "Cuándo un gallego te dice que sí, aunque esté pensando que no. La retranca gallega y otros misterios que descubrir en el Camino Inglés\n",
      "El último atardecer de Europa se ve solo desde este lugar. Un viaje hacia el infinito por el Camino de Fisterra-Muxía\n",
      "Lorca, en la ciudad al margen\n",
      "El Pirineo oscense, para entrar a vivir\n",
      "Toda la lectura del verano, en el bolsillo\n",
      "Longsellers: los libros más vendidos a lo largo de la historia\n",
      "Libros para descubrir el mundo recomendados por Benjamín Prado\n",
      "Encuentro virtual con la cantante Carla Morrison\n",
      "Ciclo MET VERANO con Cine Yelmo\n",
      "'KLIMT. La experiencia inmersiva'\n",
      "'Padre no hay más que uno 3'\n",
      "El palco, una ignominia\n",
      "El segundo encierro de San Fermín 2022, en imágenes\n",
      "Un toro rezagado alarga el segundo encierro de San Fermín a tres minutos y 10 segundos\n",
      "Roca Rey, un peñista más\n"
     ]
    },
    {
     "name": "stdout",
     "output_type": "stream",
     "text": [
      "‘Agua y jabón’: más que un libro, una constelación de genialidades\n",
      "Ayn Rand, ‘rednecks’ e inclusividad forzada: el mundo virtual como escenario político\n",
      "Hay un río de oro negro bajo A Coruña\n",
      "Max Aub, el escritor español que mejor contó la experiencia de la guerra y los refugiados \n",
      "La Bienal del Whitney habla mucho y dice poco\n",
      "Los primeros poemas de Severo Sarduy, una joya inédita\n",
      "Libros para el verano: 80 novedades recomendadas para estas vacaciones\n",
      "Rigoberta Bandini, Jordi Évole, Rosa Montero, Juan Diego Botto, Albert Serra y otros nombres de la cultura proponen sus lecturas estivales\n",
      "‘The Murder of Crows’: por qué el arte sonoro es más poderoso que el visual\n",
      "El regreso de Perrate: fiesta, linaje y ocho gozosos minutos de bulerías\n",
      "Raíces y alas del flamenco: seis discos entre tradición y evolución\n",
      "Cabeza acéfala\n",
      "Lo que siento (no se olviden de Ucrania) \n",
      "El desafío de Frida Kahlo\n",
      "Otros turismos (lejos y aquí cerca)\n",
      "‘Horas muertas’, en un Dublín hipnótico\n",
      "‘Prometeo’, trío de ases\n",
      "‘La memoria del alambre’, ese algo misterioso que daba miedo\n",
      "‘Tarradellas. Una cierta idea de Cataluña’: manual de resistencia\n",
      "Antoni Muntadas: “Supe que me dedicaría al arte cuando dejé de pintar”\n",
      "Manuel Estrada: “Me agrada que una portada guste más después de leer el libro”\n",
      "Óscar Esquivias: “No hace falta ser creyente para leer la Biblia”\n",
      "Amelia Castilla: “Los ritos nos ayudan a hacer viable el trance de la muerte”\n",
      "Shuarma: “Me gusta de la poesía el silencio que encierra”\n",
      "España debuta con cabeza en la Eurocopa\n",
      "Rumbo a Kyrgios, un Djokovic de récord\n",
      "Pogacar no se cansa de arrasar a sus rivales en el Tour de Francia\n",
      "La Superliga, una oportunidad única para la Unión Europea\n",
      "¿Por qué me gusta el fútbol? \n",
      "Rafael no concibe abandonar\n",
      "El Pedro Ferrándiz más humano\n",
      "Cielo e infierno de Nadal, entre dos mundos\n",
      "La lesión de Alexia Putellas: las roturas del ligamento cruzado anterior son tres veces más frecuentes en mujeres \n",
      "Mapi León: “Se demostró que el fútbol femenino solo había que saber venderlo”\n",
      "Así tuvo que cambiar Nadal su saque para aguantar el dolor en Wimbledon\n",
      "Lim envía a su mano derecha a desbloquear el nuevo Mestalla\n",
      "Joseph Blatter y Michel Platini, absueltos de los cargos de corrupción por un tribunal suizo\n",
      "Nadal se retira de Wimbledon: “Así no puedo ganar”\n",
      "El deporte se complica para las mujeres trans\n",
      "Dos glorias activas frente a dos jóvenes pujantes en el XXXV Magistral Ciudad de León\n",
      "Muere Pedro Ferrándiz, leyenda del banquillo del Real Madrid de baloncesto\n",
      "Pogacar impone su ley y ya es líder del Tour de Francia\n",
      "España desarbola a Corea y se clasifica para octavos\n",
      "“Si no tenemos en quién mirarnos es muy difícil saber qué queremos ser”\n",
      "“Nunca acepto un no por respuesta”\n",
      "La nadadora que dejó de competir para hacer campeones de básquet\n",
      "Crónica de dos ciudades moldeadas por la misma pasión \n",
      "Muere Pedro Ferrándiz, leyenda del banquillo del Real Madrid de baloncesto\n",
      "Nadal se retira de Wimbledon: “Así no puedo ganar”\n",
      "Pogacar impone su ley y ya es líder del Tour de Francia\n",
      "La UEFA se blinda contra la Superliga \n",
      "La baloncestista Brittney Griner se declara culpable de posesión de drogas en Rusia\n",
      "Nadal quiere jugar contra Kyrgios\n",
      "Las jugadoras de Inglaterra piden a Nike cambiar el color del pantalón por la regla\n",
      "El Barcelona espera una respuesta del Bayern por Lewandowski mientras presenta a Christensen\n",
      "“¿Quieres cobrar tu salario en streaming?” Por qué los proyectos cripto son tan difíciles de entender\n",
      "El misterio de la carta del soldado alemán\n",
      "El porqué de los desafíos criptográficos: conocerte a ti mismo, conocer a tu enemigo\n",
      "Con el relax del verano se acentúan los peligros cibernéticos: así puede protegerse durante las vacaciones\n",
      "Meta presenta un traductor capaz de operar en tiempo real con 200 idiomas\n",
      "“Soy catedrático de informática. Como mis colegas, sé que la tecnología de bitcoin es basura”\n",
      "El sector biotecnológico supera las cifras de 2020 y capta 180 millones de euros de inversión privada\n",
      "Las mentes humanas detrás de las mentes artificiales\n",
      "El juego de la técnica\n",
      "Daniel Innerarity: “Los algoritmos son conservadores y nuestra libertad depende de que nos dejen ser imprevisibles”\n",
      "Regina Barzilay: “Tenemos que aprender a vivir en un mundo en el que la tecnología toma decisiones que no podemos supervisar”\n",
      "Herramientas y trucos para recordar la ubicación del coche gracias al móvil\n",
      "Las tres amigas que quieren revolucionar los materiales de construcción con fibras de hongos\n",
      "El Constitucional afianza el derecho al olvido en internet\n",
      "Dall-E Mini, el popular generador automático de imágenes que hace dibujos sexistas y racistas \n",
      "En defensa de la procrastinación. Elogio del tiempo perdido (frente al que las redes te roban)\n",
      "Instagram, el mejor de los mundos posibles\n",
      "Del terrorismo youtuber al influencer rabioso: el odio inunda la red\n",
      "Cronodiversidad. ¿Por qué el tiempo cada vez va más rápido?\n",
      "El impacto de la tecnología en la hostelería: de la comanda digital al pago con código QR\n",
      "Herramientas que ayudan a crecer a las empresas (más allá de los pagos)\n",
      "Cinco razones por las que este ‘smartphone’ es sencillamente tentador\n",
      "La cámara de este ‘smartphone’ es pura magia\n",
      "Por qué los nuevos coches ya no los diseñarán las personas\n",
      "Una catapulta para el talento de ‘kilómetro cero’\n",
      "“¿Quieres cobrar tu salario en streaming?” Por qué los proyectos cripto son tan difíciles de entender\n",
      "El misterio de la carta del soldado alemán\n",
      "El porqué de los desafíos criptográficos: conocerte a ti mismo, conocer a tu enemigo\n",
      "Con el relax del verano se acentúan los peligros cibernéticos: así puede protegerse durante las vacaciones\n",
      "Meta presenta un traductor capaz de operar en tiempo real con 200 idiomas\n",
      "“Soy catedrático de informática. Como mis colegas, sé que la tecnología de bitcoin es basura”\n",
      "El sector biotecnológico supera las cifras de 2020 y capta 180 millones de euros de inversión privada\n",
      "Las mentes humanas detrás de las mentes artificiales\n",
      "El juego de la técnica\n",
      "Daniel Innerarity: “Los algoritmos son conservadores y nuestra libertad depende de que nos dejen ser imprevisibles”\n",
      "Regina Barzilay: “Tenemos que aprender a vivir en un mundo en el que la tecnología toma decisiones que no podemos supervisar”\n",
      "Herramientas y trucos para recordar la ubicación del coche gracias al móvil\n",
      "Las tres amigas que quieren revolucionar los materiales de construcción con fibras de hongos\n",
      "El Constitucional afianza el derecho al olvido en internet\n",
      "Dall-E Mini, el popular generador automático de imágenes que hace dibujos sexistas y racistas \n",
      "En defensa de la procrastinación. Elogio del tiempo perdido (frente al que las redes te roban)\n",
      "Instagram, el mejor de los mundos posibles\n",
      "Del terrorismo youtuber al influencer rabioso: el odio inunda la red\n",
      "Cronodiversidad. ¿Por qué el tiempo cada vez va más rápido?\n",
      "El impacto de la tecnología en la hostelería: de la comanda digital al pago con código QR\n",
      "Herramientas que ayudan a crecer a las empresas (más allá de los pagos)\n",
      "Cinco razones por las que este ‘smartphone’ es sencillamente tentador\n",
      "La cámara de este ‘smartphone’ es pura magia\n",
      "Por qué los nuevos coches ya no los diseñarán las personas\n",
      "Una catapulta para el talento de ‘kilómetro cero’\n",
      "¿Quién es quién en la familia real de Mónaco? Un repaso a los Grimaldi por el Baile de la Rosa\n",
      "Steven Meisel será el segundo fotógrafo al que Marta Ortega homenajea en A Coruña\n",
      "Elon Musk, sobre sus 10 hijos: “Estoy haciendo todo lo posible para ayudar con la crisis de despoblación” \n",
      "Juana Martín, primera mujer española “y gitana” en la alta costura de París, tras su desfile: “Me he dejado la piel”\n",
      "En verano, el mejor queso del mundo se hace helado\n",
      "El espectáculo (teatral) debe continuar en la alta costura de París\n",
      "Elon Musk tuvo gemelos en secreto con una ejecutiva de una de sus empresas\n",
      "Por qué es importante conocer tu personalidad erótica para tener una vida sexual más satisfactoria\n",
      "Realismo, entretenimiento y democracia: la alta costura se deshace por fin de sus estereotipos en París\n",
      "Matthew Bronfman, el ‘príncipe’ de Wall Street y heredero de un imperio licorero que se ha reunido con el rey Felipe VI\n",
      "De Kate Middleton a Sienna Miller: los famosos llenan las gradas de Wimbledon, en imágenes\n",
      "‘Foodificación’ o cómo un chuletón a la brasa puede transformar por completo la identidad de una ciudad\n",
      "Amalia de Orange celebra con siete meses de retraso su 18º cumpleaños con una gran fiesta de verano blindada\n",
      "Nostalgia ‘retro’, punto multicolor y otras pistas para vestir este verano\n",
      "La dictadura de la perfección, misoginia y Jeffrey Epstein: los ángeles y demonios de Victoria’s Secret\n",
      "Dios y diamantes: lo que Kendrick Lamar nos quiso decir a través de su corona de espinas\n",
      "Entre Sevilla, Ascot, el pasado y el futuro: Mans condensa su universo en una colección sin miedo a los contrastes\n",
      "La colección de Palomo Spain para Correos: cómo la moda unió a una empresa centenaria y a otra rabiosamente joven\n",
      "En verano, el mejor queso del mundo se hace helado\n",
      "El placer de lo rancio y otros gustos y aromas que recuerdan la niñez\n",
      "Trece aperitivos\n",
      "La rebelión de las cocineras de España: “Hay mujeres, falta reconocimiento”\n"
     ]
    },
    {
     "name": "stdout",
     "output_type": "stream",
     "text": [
      "‘Encerrado con el diablo’: Dennis Lehane busca en el fondo del alma humana\n",
      "‘La noche más larga’ y ‘La lista final’: palomitas sin sabor para el verano\n",
      "Los dilemas de ‘La firma de Dios’: ¿y si el virus detrás de una pandemia tuviera conciencia y voluntad propia?\n",
      "Stephen King adora ‘Stranger Things’ y viceversa\n",
      "Sanfermines: maltrato animal en riguroso directo\n",
      "‘La ciudad es nuestra’ o la corrupción policial\n",
      "La falta de diversidad en ‘Friends’: el juicio a los seis del Central Perk\n",
      "Arturo Valls pasa de presentador a recluso por rebasar los límites del humor en ‘Dos años y un día’\n",
      "Entre novedades y apuestas de bajo riesgo: así es el verano en la televisión en abierto\n",
      "Vivir y morir en Colombia, ciencia desmitificada, un nuevo lugar del crimen y adictos a la cultura pop, entre los ‘podcasts’ de julio\n",
      "Promover el turismo en tiempos de nueva normalidad, pero con vieja publicidad\n",
      "Podium Podcast estrena web con más de 400 contenidos y nuevo diseño\n",
      "EGM 2022: La SER cierra temporada de nuevo como la radio más escuchada\n",
      "¿Quién demonios votó a Podemos en La Moraleja?\n",
      "La voz de los más inocentes\n",
      "Las actrices de ‘Intimidad’: “Si una mujer no es complaciente en esta profesión, llegan las amenazas”\n",
      "Por qué los bisexuales, el colectivo no heterosexual más numeroso de España, siguen siendo invisibles en televisión\n",
      "¿Qué ver hoy en TV? Viernes 8 de julio de 2022\n",
      "Nueve capítulos para recordar ‘The Wire’ en su 20º aniversario\n",
      "Harry Palmer: el tercer vértice del mágico triángulo de espías británicos\n",
      "Las series de junio de 2022: ‘The Boys’ en Amazon Prime Video; ‘Peaky Blinders’ en Netflix y otras\n",
      "La fuerza acompaña a ‘Obi-Wan Kenobi’, una serie deslumbrante\n",
      "Pietro Beccari: “El desfile de Sevilla es uno de los mejores, si no el mejor, que ha hecho Maria Grazia Chiuri en Dior”\n",
      "El golazo literario de Roberto Santiago con ‘Los futbolísimos’\n",
      "¿Dónde está exactamente el origen del mal?\n",
      "El hombre que persigue la gaita más antigua del mundo\n",
      "La uva más denostada de  Castilla-La Mancha resurge de sus cenizas\n",
      "La rebelión de las cocineras de España: “Hay mujeres, falta reconocimiento”\n",
      "En busca de la huella de Camarón de la Isla, leyenda viva del flamenco\n",
      "Oliviero Toscani: “El fascismo resulta muy cómodo porque no te exige razonar”\n",
      "La importancia del respeto para sentirnos bien\n",
      "República Dominicana, donde la vida fluye por el río infinito\n",
      "El placer de lo rancio y otros gustos y aromas que recuerdan la niñez\n",
      "España entra en la ruta del lujo mundial: fiestas, palacios y joyas valoradas en millones de euros\n",
      "Así es el barrio de Pekín donde hay “robotaxi” y la compra llega en vehículo sin conductor\n",
      "El nuevo Volkswagen Amarok crece y tiene hasta 302 CV\n",
      "La palabra médico\n",
      "El cuerpo\n",
      "Cuento de Catherine del Biombo 5\n",
      "Vende menos comer que correr\n",
      "Harina enriquecida para acabar con el “hambre oculta”\n",
      "Lugares de esperanza para salvar los océanos\n",
      "Los guardianes del clima que llevan medio siglo leyendo las advertencias de los glaciares\n",
      "Epidemia de violencia: claves del negocio de las armas en Estados Unidos\n",
      "Los ejecutivos voladores y la ética medioambiental\n",
      "Ibiza, entre la noche desenfrenada y el turismo tranquilo \n",
      "Luz Casal: “Tengo el alma rockera. Nada ha doblegado mi rebeldía”\n",
      "Rashid Johnson: “Los pensadores y creadores negros estamos cansados de que nos nieguen un espacio autónomo”\n",
      "Sergio Hernández: “En el mundo, la gente ya no quiere verdades, quiere mentiras”\n",
      "Elvira Sastre: “No hay que perdonarlo todo”\n",
      "La trinidad del taco perfecto: “Buena tortilla, delicioso relleno y una salsa sabrosa”\n",
      "La casa de Nina Urgell Cloquell, un piso en el que las paredes hablan\n",
      "Garbanzos verdes y puchero\n",
      "Bikôkô y Julio Peña, dos estrellas en ebullición  \n",
      "Cuando Chufy encontró a Rossy: dos amigas, una isla y una colección de moda\n",
      "Retrato Robot \n",
      "Ilusiones hipnóticas\n",
      "El poder del hormigón\n",
      "Maulévrier, Japón a la francesa\n",
      "‘Fantasías en el Prado’, por Alberto García-Alix\n"
     ]
    }
   ],
   "source": [
    "req2 = requests.get(\"https://elpais.com/internacional\")\n",
    "# Si el estatus code no es 200 no se puede leer la página\n",
    "if (req.status_code != 200):\n",
    " raise Exception(\"No se puede hacer Web Scraping en\"+ URL)\n",
    "soup2 = BeautifulSoup(req2.text, 'html.parser')\n",
    "\n",
    "tags = soup2.findAll(\"h2\")\n",
    "\n",
    "for h2 in tags:\n",
    "    print(h2.text)\n",
    "    resultados.append(h2.text)\n",
    "\n",
    "req3 = requests.get(\"https://elpais.com/opinion\")\n",
    "# Si el estatus code no es 200 no se puede leer la página\n",
    "if (req.status_code != 200):\n",
    " raise Exception(\"No se puede hacer Web Scraping en\"+ URL)\n",
    "soup3 = BeautifulSoup(req3.text, 'html.parser')\n",
    "\n",
    "tags = soup3.findAll(\"h2\")\n",
    "\n",
    "for h2 in tags:\n",
    "    print(h2.text)\n",
    "    resultados.append(h2.text)\n",
    "\n",
    "req4 = requests.get(\"https://elpais.com/espana/\")\n",
    "# Si el estatus code no es 200 no se puede leer la página\n",
    "if (req.status_code != 200):\n",
    " raise Exception(\"No se puede hacer Web Scraping en\"+ URL)\n",
    "soup4 = BeautifulSoup(req4.text, 'html.parser')\n",
    "\n",
    "tags = soup4.findAll(\"h2\")\n",
    "\n",
    "for h2 in tags:\n",
    "    print(h2.text)\n",
    "    resultados.append(h2.text)\n",
    "\n",
    "req5 = requests.get(\"https://elpais.com/economia/\")\n",
    "# Si el estatus code no es 200 no se puede leer la página\n",
    "if (req.status_code != 200):\n",
    " raise Exception(\"No se puede hacer Web Scraping en\"+ URL)\n",
    "soup5 = BeautifulSoup(req5.text, 'html.parser')\n",
    "\n",
    "tags = soup5.findAll(\"h2\")\n",
    "\n",
    "for h2 in tags:\n",
    "    print(h2.text)\n",
    "    resultados.append(h2.text)\n",
    "\n",
    "req6 = requests.get(\"https://elpais.com/sociedad/\")\n",
    "# Si el estatus code no es 200 no se puede leer la página\n",
    "if (req.status_code != 200):\n",
    " raise Exception(\"No se puede hacer Web Scraping en\"+ URL)\n",
    "soup6 = BeautifulSoup(req6.text, 'html.parser')\n",
    "\n",
    "tags = soup6.findAll(\"h2\")\n",
    "\n",
    "for h2 in tags:\n",
    "    print(h2.text)\n",
    "    resultados.append(h2.text)\n",
    "\n",
    "req7 = requests.get(\"https://elpais.com/educacion/\")\n",
    "# Si el estatus code no es 200 no se puede leer la página\n",
    "if (req.status_code != 200):\n",
    " raise Exception(\"No se puede hacer Web Scraping en\"+ URL)\n",
    "soup7 = BeautifulSoup(req7.text, 'html.parser')\n",
    "\n",
    "tags = soup7.findAll(\"h2\")\n",
    "\n",
    "for h2 in tags:\n",
    "    print(h2.text)\n",
    "    resultados.append(h2.text)\n",
    "\n",
    "req8 = requests.get(\"https://elpais.com/clima-y-medio-ambiente/\")\n",
    "# Si el estatus code no es 200 no se puede leer la página\n",
    "if (req.status_code != 200):\n",
    " raise Exception(\"No se puede hacer Web Scraping en\"+ URL)\n",
    "soup8 = BeautifulSoup(req8.text, 'html.parser')\n",
    "\n",
    "tags = soup8.findAll(\"h2\")\n",
    "\n",
    "for h2 in tags:\n",
    "    print(h2.text)\n",
    "    resultados.append(h2.text)\n",
    "\n",
    "req9 = requests.get(\"https://elpais.com/ciencia/\")\n",
    "# Si el estatus code no es 200 no se puede leer la página\n",
    "if (req.status_code != 200):\n",
    " raise Exception(\"No se puede hacer Web Scraping en\"+ URL)\n",
    "soup9 = BeautifulSoup(req9.text, 'html.parser')\n",
    "\n",
    "tags = soup9.findAll(\"h2\")\n",
    "\n",
    "for h2 in tags:\n",
    "    print(h2.text)\n",
    "    resultados.append(h2.text)\n",
    "\n",
    "req10 = requests.get(\"https://elpais.com/cultura/\")\n",
    "# Si el estatus code no es 200 no se puede leer la página\n",
    "if (req.status_code != 200):\n",
    " raise Exception(\"No se puede hacer Web Scraping en\"+ URL)\n",
    "soup10 = BeautifulSoup(req10.text, 'html.parser')\n",
    "\n",
    "tags = soup10.findAll(\"h2\")\n",
    "\n",
    "for h2 in tags:\n",
    "    print(h2.text)\n",
    "    resultados.append(h2.text)\n",
    "\n",
    "req11 = requests.get(\"https://elpais.com/babelia/\")\n",
    "# Si el estatus code no es 200 no se puede leer la página\n",
    "if (req.status_code != 200):\n",
    " raise Exception(\"No se puede hacer Web Scraping en\"+ URL)\n",
    "soup11 = BeautifulSoup(req11.text, 'html.parser')\n",
    "\n",
    "tags = soup11.findAll(\"h2\")\n",
    "\n",
    "for h2 in tags:\n",
    "    print(h2.text)\n",
    "    resultados.append(h2.text)\n",
    "\n",
    "req12 = requests.get(\"https://elpais.com/deportes/\")\n",
    "# Si el estatus code no es 200 no se puede leer la página\n",
    "if (req.status_code != 200):\n",
    " raise Exception(\"No se puede hacer Web Scraping en\"+ URL)\n",
    "soup12 = BeautifulSoup(req12.text, 'html.parser')\n",
    "\n",
    "tags = soup12.findAll(\"h2\")\n",
    "\n",
    "for h2 in tags:\n",
    "    print(h2.text)\n",
    "    resultados.append(h2.text)\n",
    "\n",
    "req13 = requests.get(\"https://elpais.com/tecnologia/\")\n",
    "# Si el estatus code no es 200 no se puede leer la página\n",
    "if (req.status_code != 200):\n",
    " raise Exception(\"No se puede hacer Web Scraping en\"+ URL)\n",
    "soup13 = BeautifulSoup(req13.text, 'html.parser')\n",
    "\n",
    "tags = soup13.findAll(\"h2\")\n",
    "\n",
    "for h2 in tags:\n",
    "    print(h2.text)\n",
    "    resultados.append(h2.text)\n",
    "\n",
    "req14 = requests.get(\"https://elpais.com/tecnologia/\")\n",
    "# Si el estatus code no es 200 no se puede leer la página\n",
    "if (req.status_code != 200):\n",
    " raise Exception(\"No se puede hacer Web Scraping en\"+ URL)\n",
    "soup14 = BeautifulSoup(req14.text, 'html.parser')\n",
    "\n",
    "tags = soup14.findAll(\"h2\")\n",
    "\n",
    "for h2 in tags:\n",
    "    print(h2.text)\n",
    "    resultados.append(h2.text)\n",
    "\n",
    "req15 = requests.get(\"https://elpais.com/gente/\")\n",
    "# Si el estatus code no es 200 no se puede leer la página\n",
    "if (req.status_code != 200):\n",
    " raise Exception(\"No se puede hacer Web Scraping en\"+ URL)\n",
    "soup15 = BeautifulSoup(req15.text, 'html.parser')\n",
    "\n",
    "tags = soup15.findAll(\"h2\")\n",
    "\n",
    "for h2 in tags:\n",
    "    print(h2.text)\n",
    "    resultados.append(h2.text)\n",
    "\n",
    "req16 = requests.get(\"https://elpais.com/television/\")\n",
    "# Si el estatus code no es 200 no se puede leer la página\n",
    "if (req.status_code != 200):\n",
    " raise Exception(\"No se puede hacer Web Scraping en\"+ URL)\n",
    "soup16 = BeautifulSoup(req16.text, 'html.parser')\n",
    "\n",
    "tags = soup16.findAll(\"h2\")\n",
    "\n",
    "for h2 in tags:\n",
    "    print(h2.text)\n",
    "    resultados.append(h2.text)\n",
    "\n",
    "req17 = requests.get(\"https://elpais.com/eps/\")\n",
    "# Si el estatus code no es 200 no se puede leer la página\n",
    "if (req.status_code != 200):\n",
    " raise Exception(\"No se puede hacer Web Scraping en\"+ URL)\n",
    "soup17 = BeautifulSoup(req17.text, 'html.parser')\n",
    "\n",
    "tags = soup17.findAll(\"h2\")\n",
    "\n",
    "for h2 in tags:\n",
    "    print(h2.text)\n",
    "    resultados.append(h2.text)"
   ]
  },
  {
   "cell_type": "markdown",
   "id": "6e2b6b37",
   "metadata": {},
   "source": [
    "### Clear\n",
    "Emplearemos os.system(clear) para que después que se realicé la web scrapping se limpie la pantalla de Python para utilizarlo con Jypeter y otros sistemas si es necesario emplear !cls."
   ]
  },
  {
   "cell_type": "code",
   "execution_count": 48,
   "id": "b2ec56e4",
   "metadata": {
    "scrolled": true
   },
   "outputs": [
    {
     "name": "stdout",
     "output_type": "stream",
     "text": [
      "\f",
      "\n"
     ]
    }
   ],
   "source": [
    "!cls"
   ]
  },
  {
   "cell_type": "markdown",
   "id": "c3590864",
   "metadata": {},
   "source": [
    "Si pasamos la función type() para os.system podemos observar que el objeto es de tipo función o método integrado, igual que lo era resultados.append."
   ]
  },
  {
   "cell_type": "code",
   "execution_count": 49,
   "id": "910f4047",
   "metadata": {
    "scrolled": true
   },
   "outputs": [
    {
     "data": {
      "text/plain": [
       "builtin_function_or_method"
      ]
     },
     "execution_count": 49,
     "metadata": {},
     "output_type": "execute_result"
    }
   ],
   "source": [
    "type(os.system)"
   ]
  },
  {
   "cell_type": "markdown",
   "id": "117da012",
   "metadata": {},
   "source": [
    "### Print y str_match\n",
    "Imprimimos una  cadena de caracteres coloréandola de azul y con su texto en negrita. Esta cadena actuara como explicacipón del contenido que mostrarán los resultados obtebnidos en Pyhton."
   ]
  },
  {
   "cell_type": "code",
   "execution_count": null,
   "id": "0f9802be",
   "metadata": {},
   "outputs": [],
   "source": [
    "print(colored(\"A continuación se muestran los titulares de las páginas principales del diario El País que contienen las siguientes palabras:\", 'blue', attrs=['bold']))"
   ]
  },
  {
   "cell_type": "code",
   "execution_count": null,
   "id": "295fb653",
   "metadata": {},
   "outputs": [],
   "source": [
    "�[1m�[34mA continuación se muestran los titulares de las páginas principales del diario El País que contienen las siguientes palabras:�[0m"
   ]
  },
  {
   "cell_type": "markdown",
   "id": "76b1ea83",
   "metadata": {},
   "source": [
    "Luego imprimimos el título del contenido, que posteriormente se selecionará.En este primer caso sería primero la palabra \"Feminismo\" en color verde y en negrita, estos elementos actuarán como subtitulo identificados para los resultados que se obtendrán, posteriormente en Python. "
   ]
  },
  {
   "cell_type": "code",
   "execution_count": 50,
   "id": "cd852060",
   "metadata": {
    "scrolled": true
   },
   "outputs": [
    {
     "name": "stdout",
     "output_type": "stream",
     "text": [
      "\u001b[1m\u001b[32mFeminismo\u001b[0m\n"
     ]
    }
   ],
   "source": [
    "print(colored(\"Feminismo\", 'green', attrs=['bold']))"
   ]
  },
  {
   "cell_type": "markdown",
   "id": "d72eef30",
   "metadata": {},
   "source": [
    "Si pasamos la función type() para print podemos observar que este objeto es de tipo función o método integrado que lo eran resultados.append y os.system."
   ]
  },
  {
   "cell_type": "code",
   "execution_count": 51,
   "id": "a86a2171",
   "metadata": {
    "scrolled": false
   },
   "outputs": [
    {
     "data": {
      "text/plain": [
       "builtin_function_or_method"
      ]
     },
     "execution_count": 51,
     "metadata": {},
     "output_type": "execute_result"
    }
   ],
   "source": [
    "type(print)"
   ]
  },
  {
   "cell_type": "markdown",
   "id": "a98ea976",
   "metadata": {},
   "source": [
    "Se emplea una variable de búsqueda de cadena para que identifique los resultados que contengan una palabra determinada. En este primer caso \n",
    "la palabra buscada dentro de los resultados que se han añadido anteriormente a la lista que sería \"feminismo\".\n",
    "En este caso se imprimirán todos los resultados que contengan esta palabra."
   ]
  },
  {
   "cell_type": "code",
   "execution_count": 54,
   "id": "5ec633e6",
   "metadata": {
    "scrolled": false
   },
   "outputs": [
    {
     "name": "stdout",
     "output_type": "stream",
     "text": [
      "Americanas: Reportajes y noticias sobre feminismo e historias con enfoque de género de la región\n"
     ]
    }
   ],
   "source": [
    "str_match = [s for s in resultados if \"feminismo\" in s]\n",
    "print(\"\\n\".join(str_match))"
   ]
  },
  {
   "cell_type": "markdown",
   "id": "48cc4636",
   "metadata": {},
   "source": [
    "Si pasamos a función type() para str_match podemos observar que este objeto \n",
    "es de tipo lista igual que lo era al inicio resultados = []."
   ]
  },
  {
   "cell_type": "code",
   "execution_count": 55,
   "id": "60783043",
   "metadata": {
    "scrolled": true
   },
   "outputs": [
    {
     "data": {
      "text/plain": [
       "list"
      ]
     },
     "execution_count": 55,
     "metadata": {},
     "output_type": "execute_result"
    }
   ],
   "source": [
    "type(str_match)"
   ]
  },
  {
   "cell_type": "markdown",
   "id": "bf7e4614",
   "metadata": {},
   "source": [
    "Se repite los mismo para las palabras igualdad, mujeres, mujer, brecha salarial, machismo, violencia, maltrato, homicidio, género, asesinato y sexo."
   ]
  },
  {
   "cell_type": "code",
   "execution_count": 56,
   "id": "aaf7cd8f",
   "metadata": {},
   "outputs": [
    {
     "name": "stdout",
     "output_type": "stream",
     "text": [
      "\u001b[1m\u001b[32mIgualdad\u001b[0m\n",
      "El caso de Georgia, en EE UU: becar sin importar la renta agranda la desigualdad\n",
      "La escuela concertada ante las desigualdades: el debate pendiente\n",
      "El caso de Georgia, en EE UU: becar sin importar la renta agranda la desigualdad\n",
      "\u001b[1m\u001b[32mMujeres\u001b[0m\n",
      "La falta de presupuesto ahoga a los refugios para mujeres víctimas de violencia en México\n",
      "La lesión de Alexia Putellas: las roturas del ligamento cruzado anterior son tres veces más frecuentes en mujeres \n",
      "El Panamá indígena busca empoderar a sus mujeres\n",
      "El control del cuerpo de las mujeres\n",
      "Un día muy triste para todas las mujeres\n",
      "El Supremo de Estados Unidos destruye un derecho fundamental de las mujeres\n",
      "La lesión de Alexia Putellas: las roturas del ligamento cruzado anterior son tres veces más frecuentes en mujeres \n",
      "El deporte se complica para las mujeres trans\n",
      "La rebelión de las cocineras de España: “Hay mujeres, falta reconocimiento”\n",
      "La rebelión de las cocineras de España: “Hay mujeres, falta reconocimiento”\n",
      "\u001b[1m\u001b[32mMujer\u001b[0m\n",
      "La falta de presupuesto ahoga a los refugios para mujeres víctimas de violencia en México\n",
      "La lesión de Alexia Putellas: las roturas del ligamento cruzado anterior son tres veces más frecuentes en mujeres \n",
      "El Panamá indígena busca empoderar a sus mujeres\n",
      "El control del cuerpo de las mujeres\n",
      "Un día muy triste para todas las mujeres\n",
      "El Supremo de Estados Unidos destruye un derecho fundamental de las mujeres\n",
      "La lesión de Alexia Putellas: las roturas del ligamento cruzado anterior son tres veces más frecuentes en mujeres \n",
      "El deporte se complica para las mujeres trans\n",
      "Juana Martín, primera mujer española “y gitana” en la alta costura de París, tras su desfile: “Me he dejado la piel”\n",
      "La rebelión de las cocineras de España: “Hay mujeres, falta reconocimiento”\n",
      "Las actrices de ‘Intimidad’: “Si una mujer no es complaciente en esta profesión, llegan las amenazas”\n",
      "La rebelión de las cocineras de España: “Hay mujeres, falta reconocimiento”\n",
      "\u001b[1m\u001b[32mBrecha salarial\u001b[0m\n",
      "\n",
      "\u001b[1m\u001b[32mMachismo\u001b[0m\n",
      "\n",
      "\u001b[1m\u001b[32mViolencia\u001b[0m\n",
      "La falta de presupuesto ahoga a los refugios para mujeres víctimas de violencia en México\n",
      "Epidemia de violencia: claves del negocio de las armas en Estados Unidos\n",
      "\u001b[1m\u001b[32mMaltrato\u001b[0m\n",
      "‘Sanfermines: maltrato animal en riguroso directo’, por Eva Güimil\n",
      "Un juez archiva la causa contra el exmagistrado del Constitucional Fernando Valdés por supuesto maltrato \n",
      "Sanfermines: maltrato animal en riguroso directo\n",
      "\u001b[1m\u001b[32mHomicidio\u001b[0m\n",
      "\n",
      "\u001b[1m\u001b[32mGénero\u001b[0m\n",
      "Americanas: Reportajes y noticias sobre feminismo e historias con enfoque de género de la región\n",
      "Antonio Guillamón: “La identidad de género no se elige, como prueba el fracaso de las terapias de conversión”\n",
      "“La identidad de género no se elige, como prueba el fracaso de las terapias de conversión”\n",
      "\u001b[1m\u001b[32mAsesinato\u001b[0m\n",
      "Detenido en Brasil el presunto autor intelectual del asesinato de Dom Philips y Bruno Pereira en la Amazonia\n",
      "Detenida la esposa del empresario italiano Raphael Tunesi como autora intelectual de su asesinato\n",
      "La Fiscalía mexicana reabre el caso por el asesinato del excandidato Colosio\n",
      "Haití, sin presidente y sin Estado un año después del asesinato de Jovenel Moïse\n",
      "Los principales líderes internacionales condenan el asesinato a tiros de Shinzo Abe\n",
      "El juez cita como imputados a tres exjefes de ETA por el asesinato de Miguel Ángel Blanco\n",
      "\u001b[1m\u001b[32mSexo\u001b[0m\n",
      "\n"
     ]
    }
   ],
   "source": [
    "print(colored(\"Igualdad\", 'green', attrs=['bold']))\n",
    "\n",
    "str_match = [s for s in resultados if \"igualdad\" in s]\n",
    "print(\"\\n\".join(str_match))\n",
    "\n",
    "print(colored(\"Mujeres\", 'green', attrs=['bold']))\n",
    "\n",
    "str_match = [s for s in resultados if \"mujeres\" in s]\n",
    "print(\"\\n\".join(str_match))\n",
    "\n",
    "print(colored(\"Mujer\", 'green', attrs=['bold']))\n",
    "\n",
    "str_match = [s for s in resultados if \"mujer\" in s]\n",
    "print(\"\\n\".join(str_match))\n",
    "\n",
    "print(colored(\"Brecha salarial\", 'green', attrs=['bold']))\n",
    "\n",
    "str_match = [s for s in resultados if \"brecha salarial\" in s]\n",
    "print(\"\\n\".join(str_match))\n",
    "\n",
    "print(colored(\"Machismo\", 'green', attrs=['bold']))\n",
    "\n",
    "str_match = [s for s in resultados if \"machismo\" in s]\n",
    "print(\"\\n\".join(str_match))\n",
    "\n",
    "print(colored(\"Violencia\", 'green', attrs=['bold']))\n",
    "\n",
    "str_match = [s for s in resultados if \"violencia\" in s]\n",
    "print(\"\\n\".join(str_match))\n",
    "\n",
    "print(colored(\"Maltrato\", 'green', attrs=['bold']))\n",
    "\n",
    "str_match = [s for s in resultados if \"maltrato\" in s]\n",
    "print(\"\\n\".join(str_match))\n",
    "\n",
    "print(colored(\"Homicidio\", 'green', attrs=['bold']))\n",
    "\n",
    "str_match = [s for s in resultados if \"homicidio\" in s]\n",
    "print(\"\\n\".join(str_match))\n",
    "\n",
    "print(colored(\"Género\", 'green', attrs=['bold']))\n",
    "\n",
    "str_match = [s for s in resultados if \"género\" in s]\n",
    "print(\"\\n\".join(str_match))\n",
    "\n",
    "print(colored(\"Asesinato\", 'green', attrs=['bold']))\n",
    "\n",
    "str_match = [s for s in resultados if \"asesinato\" in s]\n",
    "print(\"\\n\".join(str_match))\n",
    "\n",
    "print(colored(\"Sexo\", 'green', attrs=['bold']))\n",
    "\n",
    "str_match = [s for s in resultados if \"sexo\" in s]\n",
    "print(\"\\n\".join(str_match))"
   ]
  },
  {
   "cell_type": "markdown",
   "id": "4fb3c71a",
   "metadata": {},
   "source": [
    "## Código fuente"
   ]
  },
  {
   "cell_type": "code",
   "execution_count": null,
   "id": "ff22b4d1",
   "metadata": {},
   "outputs": [],
   "source": [
    "import requests\n",
    "import time\n",
    "import csv\n",
    "import re\n",
    "from bs4 import BeautifulSoup\n",
    "import os\n",
    "import pandas as pd\n",
    "from termcolor import colored\n",
    "\n",
    "req = requests.get(\"https://resultados.elpais.com\")\n",
    "# Si el estatus code no es 200 no se puede leer la página\n",
    "if (req.status_code != 200):\n",
    " raise Exception(\"No se puede hacer Web Scraping en\"+ URL)\n",
    "soup = BeautifulSoup(req.text, 'html.parser')\n",
    " \n",
    "tags = soup.findAll(\"h2\")\n",
    " \n",
    "for h2 in tags:\n",
    "    print(h2.text)\n",
    "    resultados.append(h2.text)\n",
    " \n",
    "req2 = requests.get(\"https://elpais.com/internacional\")\n",
    "# Si el estatus code no es 200 no se puede leer la página\n",
    "if (req.status_code != 200):\n",
    " raise Exception(\"No se puede hacer Web Scraping en\"+ URL)\n",
    "soup2 = BeautifulSoup(req2.text, 'html.parser')\n",
    " \n",
    "tags = soup2.findAll(\"h2\")\n",
    " \n",
    "for h2 in tags:\n",
    "    print(h2.text)\n",
    "    resultados.append(h2.text)\n",
    " \n",
    "req3 = requests.get(\"https://elpais.com/opinion\")\n",
    "# Si el estatus code no es 200 no se puede leer la página\n",
    "if (req.status_code != 200):\n",
    " raise Exception(\"No se puede hacer Web Scraping en\"+ URL)\n",
    "soup3 = BeautifulSoup(req3.text, 'html.parser')\n",
    " \n",
    "tags = soup3.findAll(\"h2\")\n",
    " \n",
    "for h2 in tags:\n",
    "    print(h2.text)\n",
    "    resultados.append(h2.text)\n",
    " \n",
    "req4 = requests.get(\"https://elpais.com/espana/\")\n",
    "# Si el estatus code no es 200 no se puede leer la página\n",
    "if (req.status_code != 200):\n",
    " raise Exception(\"No se puede hacer Web Scraping en\"+ URL)\n",
    "soup4 = BeautifulSoup(req4.text, 'html.parser')\n",
    " \n",
    "tags = soup4.findAll(\"h2\")\n",
    " \n",
    "for h2 in tags:\n",
    "    print(h2.text)\n",
    "    resultados.append(h2.text)\n",
    " \n",
    "req5 = requests.get(\"https://elpais.com/economia/\")\n",
    "# Si el estatus code no es 200 no se puede leer la página\n",
    "if (req.status_code != 200):\n",
    " raise Exception(\"No se puede hacer Web Scraping en\"+ URL)\n",
    "soup5 = BeautifulSoup(req5.text, 'html.parser')\n",
    " \n",
    "tags = soup5.findAll(\"h2\")\n",
    " \n",
    "for h2 in tags:\n",
    "    print(h2.text)\n",
    "    resultados.append(h2.text)\n",
    " \n",
    "req6 = requests.get(\"https://elpais.com/sociedad/\")\n",
    "# Si el estatus code no es 200 no se puede leer la página\n",
    "if (req.status_code != 200):\n",
    " raise Exception(\"No se puede hacer Web Scraping en\"+ URL)\n",
    "soup6 = BeautifulSoup(req6.text, 'html.parser')\n",
    " \n",
    "tags = soup6.findAll(\"h2\")\n",
    " \n",
    "for h2 in tags:\n",
    "    print(h2.text)\n",
    "    resultados.append(h2.text)\n",
    " \n",
    "req7 = requests.get(\"https://elpais.com/educacion/\")\n",
    "# Si el estatus code no es 200 no se puede leer la página\n",
    "if (req.status_code != 200):\n",
    " raise Exception(\"No se puede hacer Web Scraping en\"+ URL)\n",
    "soup7 = BeautifulSoup(req7.text, 'html.parser')\n",
    " \n",
    "tags = soup7.findAll(\"h2\")\n",
    " \n",
    "for h2 in tags:\n",
    "    print(h2.text)\n",
    "    resultados.append(h2.text)\n",
    " \n",
    "req8 = requests.get(\"https://elpais.com/clima-y-medio-ambiente/\")\n",
    "# Si el estatus code no es 200 no se puede leer la página\n",
    "if (req.status_code != 200):\n",
    " raise Exception(\"No se puede hacer Web Scraping en\"+ URL)\n",
    "soup8 = BeautifulSoup(req8.text, 'html.parser')\n",
    " \n",
    "tags = soup8.findAll(\"h2\")\n",
    " \n",
    "for h2 in tags:\n",
    "    print(h2.text)\n",
    "    resultados.append(h2.text)\n",
    " \n",
    "req9 = requests.get(\"https://elpais.com/ciencia/\")\n",
    "# Si el estatus code no es 200 no se puede leer la página\n",
    "if (req.status_code != 200):\n",
    " raise Exception(\"No se puede hacer Web Scraping en\"+ URL)\n",
    "soup9 = BeautifulSoup(req9.text, 'html.parser')\n",
    " \n",
    "tags = soup9.findAll(\"h2\")\n",
    " \n",
    "for h2 in tags:\n",
    "    print(h2.text)\n",
    "    resultados.append(h2.text)\n",
    " \n",
    "req10 = requests.get(\"https://elpais.com/cultura/\")\n",
    "# Si el estatus code no es 200 no se puede leer la página\n",
    "if (req.status_code != 200):\n",
    " raise Exception(\"No se puede hacer Web Scraping en\"+ URL)\n",
    "soup10 = BeautifulSoup(req10.text, 'html.parser')\n",
    " \n",
    "tags = soup10.findAll(\"h2\")\n",
    " \n",
    "for h2 in tags:\n",
    "    print(h2.text)\n",
    "    resultados.append(h2.text)\n",
    " \n",
    "req11 = requests.get(\"https://elpais.com/babelia/\")\n",
    "# Si el estatus code no es 200 no se puede leer la página\n",
    "if (req.status_code != 200):\n",
    " raise Exception(\"No se puede hacer Web Scraping en\"+ URL)\n",
    "soup11 = BeautifulSoup(req11.text, 'html.parser')\n",
    " \n",
    "tags = soup11.findAll(\"h2\")\n",
    " \n",
    "for h2 in tags:\n",
    "    print(h2.text)\n",
    "    resultados.append(h2.text)\n",
    " \n",
    "req12 = requests.get(\"https://elpais.com/deportes/\")\n",
    "# Si el estatus code no es 200 no se puede leer la página\n",
    "if (req.status_code != 200):\n",
    " raise Exception(\"No se puede hacer Web Scraping en\"+ URL)\n",
    "soup12 = BeautifulSoup(req12.text, 'html.parser')\n",
    " \n",
    "tags = soup12.findAll(\"h2\")\n",
    " \n",
    "for h2 in tags:\n",
    "    print(h2.text)\n",
    "    resultados.append(h2.text)\n",
    " \n",
    "req13 = requests.get(\"https://elpais.com/tecnologia/\")\n",
    "# Si el estatus code no es 200 no se puede leer la página\n",
    "if (req.status_code != 200):\n",
    " raise Exception(\"No se puede hacer Web Scraping en\"+ URL)\n",
    "soup13 = BeautifulSoup(req13.text, 'html.parser')\n",
    " \n",
    "tags = soup13.findAll(\"h2\")\n",
    " \n",
    "for h2 in tags:\n",
    "    print(h2.text)\n",
    "    resultados.append(h2.text)\n",
    " \n",
    "req14 = requests.get(\"https://elpais.com/tecnologia/\")\n",
    "# Si el estatus code no es 200 no se puede leer la página\n",
    "if (req.status_code != 200):\n",
    " raise Exception(\"No se puede hacer Web Scraping en\"+ URL)\n",
    "soup14 = BeautifulSoup(req14.text, 'html.parser')\n",
    " \n",
    "tags = soup14.findAll(\"h2\")\n",
    " \n",
    "for h2 in tags:\n",
    "    print(h2.text)\n",
    "    resultados.append(h2.text)\n",
    " \n",
    "req15 = requests.get(\"https://elpais.com/gente/\")\n",
    "# Si el estatus code no es 200 no se puede leer la página\n",
    "if (req.status_code != 200):\n",
    " raise Exception(\"No se puede hacer Web Scraping en\"+ URL)\n",
    "soup15 = BeautifulSoup(req15.text, 'html.parser')\n",
    " \n",
    "tags = soup15.findAll(\"h2\")\n",
    " \n",
    "for h2 in tags:\n",
    "    print(h2.text)\n",
    "    resultados.append(h2.text)\n",
    " \n",
    "req16 = requests.get(\"https://elpais.com/television/\")\n",
    "# Si el estatus code no es 200 no se puede leer la página\n",
    "if (req.status_code != 200):\n",
    " raise Exception(\"No se puede hacer Web Scraping en\"+ URL)\n",
    "soup16 = BeautifulSoup(req16.text, 'html.parser')\n",
    " \n",
    "tags = soup16.findAll(\"h2\")\n",
    " \n",
    "for h2 in tags:\n",
    "    print(h2.text)\n",
    "    resultados.append(h2.text)\n",
    " \n",
    "req17 = requests.get(\"https://elpais.com/eps/\")\n",
    "# Si el estatus code no es 200 no se puede leer la página\n",
    "if (req.status_code != 200):\n",
    " raise Exception(\"No se puede hacer Web Scraping en\"+ URL)\n",
    "soup17 = BeautifulSoup(req17.text, 'html.parser')\n",
    " \n",
    "tags = soup17.findAll(\"h2\")\n",
    " \n",
    "for h2 in tags:\n",
    "    print(h2.text)\n",
    "    resultados.append(h2.text)\n",
    " \n",
    " \n",
    " \n",
    "os.system(\"clear\")\n",
    " \n",
    "print(colored(\"A continuación se muestran los titulares de las páginas principales del diario El País que contienen las siguientes palabras:\", 'blue', attrs=['bold']))\n",
    "print(colored(\"Feminismo\", 'green', attrs=['bold']))\n",
    " \n",
    "str_match = [s for s in resultados if \"feminismo\" in s]\n",
    "print(\"\\n\".join(str_match))\n",
    " \n",
    "print(colored(\"Igualdad\", 'green', attrs=['bold']))\n",
    " \n",
    "str_match = [s for s in resultados if \"igualdad\" in s]\n",
    "print(\"\\n\".join(str_match))\n",
    " \n",
    "print(colored(\"Mujeres\", 'green', attrs=['bold']))\n",
    " \n",
    "str_match = [s for s in resultados if \"mujeres\" in s]\n",
    "print(\"\\n\".join(str_match))\n",
    " \n",
    "print(colored(\"Mujer\", 'green', attrs=['bold']))\n",
    " \n",
    "str_match = [s for s in resultados if \"mujer\" in s]\n",
    "print(\"\\n\".join(str_match))\n",
    " \n",
    "print(colored(\"Brecha salarial\", 'green', attrs=['bold']))\n",
    " \n",
    "str_match = [s for s in resultados if \"brecha salarial\" in s]\n",
    "print(\"\\n\".join(str_match))\n",
    " \n",
    "print(colored(\"Machismo\", 'green', attrs=['bold']))\n",
    " \n",
    "str_match = [s for s in resultados if \"machismo\" in s]\n",
    "print(\"\\n\".join(str_match))\n",
    " \n",
    "print(colored(\"Violencia\", 'green', attrs=['bold']))\n",
    " \n",
    "str_match = [s for s in resultados if \"violencia\" in s]\n",
    "print(\"\\n\".join(str_match))\n",
    " \n",
    "print(colored(\"Maltrato\", 'green', attrs=['bold']))\n",
    " \n",
    "str_match = [s for s in resultados if \"maltrato\" in s]\n",
    "print(\"\\n\".join(str_match))\n",
    " \n",
    "print(colored(\"Homicidio\", 'green', attrs=['bold']))\n",
    " \n",
    "str_match = [s for s in resultados if \"homicidio\" in s]\n",
    "print(\"\\n\".join(str_match))\n",
    " \n",
    "print(colored(\"Género\", 'green', attrs=['bold']))\n",
    " \n",
    "str_match = [s for s in resultados if \"género\" in s]\n",
    "print(\"\\n\".join(str_match))\n",
    " \n",
    "print(colored(\"Asesinato\", 'green', attrs=['bold']))\n",
    " \n",
    "str_match = [s for s in resultados if \"asesinato\" in s]\n",
    "print(\"\\n\".join(str_match))\n",
    " \n",
    "print(colored(\"Sexo\", 'green', attrs=['bold']))\n",
    " \n",
    "str_match = [s for s in resultados if \"sexo\" in s]\n",
    "print(\"\\n\".join(str_match))"
   ]
  }
 ],
 "metadata": {
  "kernelspec": {
   "display_name": "Python 3 (ipykernel)",
   "language": "python",
   "name": "python3"
  },
  "language_info": {
   "codemirror_mode": {
    "name": "ipython",
    "version": 3
   },
   "file_extension": ".py",
   "mimetype": "text/x-python",
   "name": "python",
   "nbconvert_exporter": "python",
   "pygments_lexer": "ipython3",
   "version": "3.9.12"
  }
 },
 "nbformat": 4,
 "nbformat_minor": 5
}
